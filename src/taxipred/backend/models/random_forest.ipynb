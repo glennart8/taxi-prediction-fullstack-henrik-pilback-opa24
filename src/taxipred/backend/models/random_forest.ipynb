{
 "cells": [
  {
   "cell_type": "code",
   "execution_count": 1,
   "id": "40e25ff9",
   "metadata": {},
   "outputs": [
    {
     "data": {
      "text/html": [
       "<div>\n",
       "<style scoped>\n",
       "    .dataframe tbody tr th:only-of-type {\n",
       "        vertical-align: middle;\n",
       "    }\n",
       "\n",
       "    .dataframe tbody tr th {\n",
       "        vertical-align: top;\n",
       "    }\n",
       "\n",
       "    .dataframe thead th {\n",
       "        text-align: right;\n",
       "    }\n",
       "</style>\n",
       "<table border=\"1\" class=\"dataframe\">\n",
       "  <thead>\n",
       "    <tr style=\"text-align: right;\">\n",
       "      <th></th>\n",
       "      <th>Trip_Distance_km</th>\n",
       "      <th>Time_of_Day</th>\n",
       "      <th>Base_Fare</th>\n",
       "      <th>Per_Km_Rate</th>\n",
       "      <th>Per_Minute_Rate</th>\n",
       "      <th>Trip_Duration_Minutes</th>\n",
       "      <th>Trip_Price</th>\n",
       "    </tr>\n",
       "  </thead>\n",
       "  <tbody>\n",
       "    <tr>\n",
       "      <th>0</th>\n",
       "      <td>19.35</td>\n",
       "      <td>Morning</td>\n",
       "      <td>3.56</td>\n",
       "      <td>0.80</td>\n",
       "      <td>0.32</td>\n",
       "      <td>53.82</td>\n",
       "      <td>36.2624</td>\n",
       "    </tr>\n",
       "    <tr>\n",
       "      <th>1</th>\n",
       "      <td>36.87</td>\n",
       "      <td>Evening</td>\n",
       "      <td>2.70</td>\n",
       "      <td>1.21</td>\n",
       "      <td>0.15</td>\n",
       "      <td>37.27</td>\n",
       "      <td>52.9032</td>\n",
       "    </tr>\n",
       "    <tr>\n",
       "      <th>2</th>\n",
       "      <td>30.33</td>\n",
       "      <td>Evening</td>\n",
       "      <td>3.48</td>\n",
       "      <td>0.51</td>\n",
       "      <td>0.15</td>\n",
       "      <td>116.81</td>\n",
       "      <td>36.4698</td>\n",
       "    </tr>\n",
       "    <tr>\n",
       "      <th>3</th>\n",
       "      <td>8.64</td>\n",
       "      <td>Afternoon</td>\n",
       "      <td>2.55</td>\n",
       "      <td>1.71</td>\n",
       "      <td>0.48</td>\n",
       "      <td>89.33</td>\n",
       "      <td>60.2028</td>\n",
       "    </tr>\n",
       "    <tr>\n",
       "      <th>4</th>\n",
       "      <td>30.45</td>\n",
       "      <td>Morning</td>\n",
       "      <td>2.77</td>\n",
       "      <td>1.78</td>\n",
       "      <td>0.34</td>\n",
       "      <td>110.33</td>\n",
       "      <td>94.4832</td>\n",
       "    </tr>\n",
       "  </tbody>\n",
       "</table>\n",
       "</div>"
      ],
      "text/plain": [
       "   Trip_Distance_km Time_of_Day  Base_Fare  Per_Km_Rate  Per_Minute_Rate  \\\n",
       "0             19.35     Morning       3.56         0.80             0.32   \n",
       "1             36.87     Evening       2.70         1.21             0.15   \n",
       "2             30.33     Evening       3.48         0.51             0.15   \n",
       "3              8.64   Afternoon       2.55         1.71             0.48   \n",
       "4             30.45     Morning       2.77         1.78             0.34   \n",
       "\n",
       "   Trip_Duration_Minutes  Trip_Price  \n",
       "0                  53.82     36.2624  \n",
       "1                  37.27     52.9032  \n",
       "2                 116.81     36.4698  \n",
       "3                  89.33     60.2028  \n",
       "4                 110.33     94.4832  "
      ]
     },
     "execution_count": 1,
     "metadata": {},
     "output_type": "execute_result"
    }
   ],
   "source": [
    "import pandas as pd\n",
    "import joblib\n",
    "from taxipred.utils.constants import TAXI_CSV_PATH\n",
    "\n",
    "df = pd.read_csv(TAXI_CSV_PATH)\n",
    "df.head()"
   ]
  },
  {
   "cell_type": "code",
   "execution_count": 2,
   "id": "ebc5c525",
   "metadata": {},
   "outputs": [
    {
     "name": "stdout",
     "output_type": "stream",
     "text": [
      "<class 'pandas.core.frame.DataFrame'>\n",
      "RangeIndex: 768 entries, 0 to 767\n",
      "Data columns (total 7 columns):\n",
      " #   Column                 Non-Null Count  Dtype  \n",
      "---  ------                 --------------  -----  \n",
      " 0   Trip_Distance_km       768 non-null    float64\n",
      " 1   Time_of_Day            768 non-null    object \n",
      " 2   Base_Fare              768 non-null    float64\n",
      " 3   Per_Km_Rate            768 non-null    float64\n",
      " 4   Per_Minute_Rate        768 non-null    float64\n",
      " 5   Trip_Duration_Minutes  768 non-null    float64\n",
      " 6   Trip_Price             768 non-null    float64\n",
      "dtypes: float64(6), object(1)\n",
      "memory usage: 42.1+ KB\n"
     ]
    }
   ],
   "source": [
    "df.info()"
   ]
  },
  {
   "cell_type": "code",
   "execution_count": 3,
   "id": "a379a701",
   "metadata": {},
   "outputs": [],
   "source": [
    "df = pd.get_dummies(\n",
    "    df,\n",
    "    columns=['Time_of_Day'],\n",
    "    dtype=int\n",
    ")\n",
    "\n",
    "df_dummies = df"
   ]
  },
  {
   "cell_type": "code",
   "execution_count": 4,
   "id": "36a35cff",
   "metadata": {},
   "outputs": [
    {
     "data": {
      "text/html": [
       "<div>\n",
       "<style scoped>\n",
       "    .dataframe tbody tr th:only-of-type {\n",
       "        vertical-align: middle;\n",
       "    }\n",
       "\n",
       "    .dataframe tbody tr th {\n",
       "        vertical-align: top;\n",
       "    }\n",
       "\n",
       "    .dataframe thead th {\n",
       "        text-align: right;\n",
       "    }\n",
       "</style>\n",
       "<table border=\"1\" class=\"dataframe\">\n",
       "  <thead>\n",
       "    <tr style=\"text-align: right;\">\n",
       "      <th></th>\n",
       "      <th>Trip_Distance_km</th>\n",
       "      <th>Base_Fare</th>\n",
       "      <th>Per_Km_Rate</th>\n",
       "      <th>Per_Minute_Rate</th>\n",
       "      <th>Trip_Duration_Minutes</th>\n",
       "      <th>Time_of_Day_Afternoon</th>\n",
       "      <th>Time_of_Day_Evening</th>\n",
       "      <th>Time_of_Day_Morning</th>\n",
       "      <th>Time_of_Day_Night</th>\n",
       "    </tr>\n",
       "  </thead>\n",
       "  <tbody>\n",
       "    <tr>\n",
       "      <th>0</th>\n",
       "      <td>19.35</td>\n",
       "      <td>3.56</td>\n",
       "      <td>0.80</td>\n",
       "      <td>0.32</td>\n",
       "      <td>53.82</td>\n",
       "      <td>0</td>\n",
       "      <td>0</td>\n",
       "      <td>1</td>\n",
       "      <td>0</td>\n",
       "    </tr>\n",
       "    <tr>\n",
       "      <th>1</th>\n",
       "      <td>36.87</td>\n",
       "      <td>2.70</td>\n",
       "      <td>1.21</td>\n",
       "      <td>0.15</td>\n",
       "      <td>37.27</td>\n",
       "      <td>0</td>\n",
       "      <td>1</td>\n",
       "      <td>0</td>\n",
       "      <td>0</td>\n",
       "    </tr>\n",
       "    <tr>\n",
       "      <th>2</th>\n",
       "      <td>30.33</td>\n",
       "      <td>3.48</td>\n",
       "      <td>0.51</td>\n",
       "      <td>0.15</td>\n",
       "      <td>116.81</td>\n",
       "      <td>0</td>\n",
       "      <td>1</td>\n",
       "      <td>0</td>\n",
       "      <td>0</td>\n",
       "    </tr>\n",
       "    <tr>\n",
       "      <th>3</th>\n",
       "      <td>8.64</td>\n",
       "      <td>2.55</td>\n",
       "      <td>1.71</td>\n",
       "      <td>0.48</td>\n",
       "      <td>89.33</td>\n",
       "      <td>1</td>\n",
       "      <td>0</td>\n",
       "      <td>0</td>\n",
       "      <td>0</td>\n",
       "    </tr>\n",
       "    <tr>\n",
       "      <th>4</th>\n",
       "      <td>30.45</td>\n",
       "      <td>2.77</td>\n",
       "      <td>1.78</td>\n",
       "      <td>0.34</td>\n",
       "      <td>110.33</td>\n",
       "      <td>0</td>\n",
       "      <td>0</td>\n",
       "      <td>1</td>\n",
       "      <td>0</td>\n",
       "    </tr>\n",
       "  </tbody>\n",
       "</table>\n",
       "</div>"
      ],
      "text/plain": [
       "   Trip_Distance_km  Base_Fare  Per_Km_Rate  Per_Minute_Rate  \\\n",
       "0             19.35       3.56         0.80             0.32   \n",
       "1             36.87       2.70         1.21             0.15   \n",
       "2             30.33       3.48         0.51             0.15   \n",
       "3              8.64       2.55         1.71             0.48   \n",
       "4             30.45       2.77         1.78             0.34   \n",
       "\n",
       "   Trip_Duration_Minutes  Time_of_Day_Afternoon  Time_of_Day_Evening  \\\n",
       "0                  53.82                      0                    0   \n",
       "1                  37.27                      0                    1   \n",
       "2                 116.81                      0                    1   \n",
       "3                  89.33                      1                    0   \n",
       "4                 110.33                      0                    0   \n",
       "\n",
       "   Time_of_Day_Morning  Time_of_Day_Night  \n",
       "0                    1                  0  \n",
       "1                    0                  0  \n",
       "2                    0                  0  \n",
       "3                    0                  0  \n",
       "4                    1                  0  "
      ]
     },
     "execution_count": 4,
     "metadata": {},
     "output_type": "execute_result"
    }
   ],
   "source": [
    "# Dela upp features och target/label\n",
    "X, y = df_dummies.drop(\"Trip_Price\", axis=\"columns\"), df_dummies[\"Trip_Price\"]\n",
    "X.head()"
   ]
  },
  {
   "cell_type": "code",
   "execution_count": 5,
   "id": "d6eef1bc",
   "metadata": {},
   "outputs": [
    {
     "data": {
      "text/plain": [
       "0    36.2624\n",
       "1    52.9032\n",
       "2    36.4698\n",
       "3    60.2028\n",
       "4    94.4832\n",
       "Name: Trip_Price, dtype: float64"
      ]
     },
     "execution_count": 5,
     "metadata": {},
     "output_type": "execute_result"
    }
   ],
   "source": [
    "y.head()"
   ]
  },
  {
   "cell_type": "code",
   "execution_count": 6,
   "id": "f3a28747",
   "metadata": {},
   "outputs": [
    {
     "data": {
      "text/plain": [
       "((514, 9), (254, 9))"
      ]
     },
     "execution_count": 6,
     "metadata": {},
     "output_type": "execute_result"
    }
   ],
   "source": [
    "from sklearn.model_selection import train_test_split\n",
    "\n",
    "X_train, X_test, y_train, y_test = train_test_split(\n",
    "X, y, test_size=0.33, random_state=42)\n",
    "\n",
    "X_train.shape, X_test.shape"
   ]
  },
  {
   "cell_type": "code",
   "execution_count": 7,
   "id": "db106002",
   "metadata": {},
   "outputs": [
    {
     "data": {
      "text/plain": [
       "array([58.349735, 61.23604 , 70.115799, 34.573525, 43.352508, 32.379012,\n",
       "       44.762321, 44.971612, 57.608739, 29.446813])"
      ]
     },
     "execution_count": 7,
     "metadata": {},
     "output_type": "execute_result"
    }
   ],
   "source": [
    "# Ska inte skala med RandomForest ( inte skala näver från björken )\n",
    "\n",
    "from sklearn.ensemble import RandomForestRegressor\n",
    "\n",
    "model = RandomForestRegressor()\n",
    "\n",
    "model.fit(X_train, y_train)\n",
    "\n",
    "y_pred = model.predict(X_test)\n",
    "y_pred[:10]"
   ]
  },
  {
   "cell_type": "code",
   "execution_count": 8,
   "id": "04768f59",
   "metadata": {},
   "outputs": [
    {
     "data": {
      "text/plain": [
       "array([57.0755, 59.1773, 64.8642, 31.6941, 38.9965, 29.0584, 50.696 ,\n",
       "       43.0697, 59.886 , 28.4048])"
      ]
     },
     "execution_count": 8,
     "metadata": {},
     "output_type": "execute_result"
    }
   ],
   "source": [
    "y_test[:10].values"
   ]
  },
  {
   "cell_type": "code",
   "execution_count": 9,
   "id": "edc4879d",
   "metadata": {},
   "outputs": [
    {
     "name": "stdout",
     "output_type": "stream",
     "text": [
      "Mean Absolute Error (MAE): 4.60\n",
      "Mean Squared Error (MSE): 47.18\n",
      "Root Mean Squared Error (RMSE): 6.87\n",
      "R-squared (R²): 0.95\n"
     ]
    }
   ],
   "source": [
    "from sklearn.metrics import mean_absolute_error, mean_squared_error, r2_score\n",
    "import numpy as np\n",
    "\n",
    "mae = mean_absolute_error(y_test, y_pred)\n",
    "print(f'Mean Absolute Error (MAE): {mae:.2f}')\n",
    "\n",
    "mse = mean_squared_error(y_test, y_pred)\n",
    "print(f'Mean Squared Error (MSE): {mse:.2f}')\n",
    "\n",
    "rmse = np.sqrt(mse)\n",
    "print(f'Root Mean Squared Error (RMSE): {rmse:.2f}')\n",
    "\n",
    "r2 = r2_score(y_test, y_pred)\n",
    "print(f'R-squared (R²): {r2:.2f}')"
   ]
  },
  {
   "cell_type": "code",
   "execution_count": 10,
   "id": "716e91ab",
   "metadata": {},
   "outputs": [
    {
     "data": {
      "text/plain": [
       "array([0.5928591 , 0.0084649 , 0.2121704 , 0.07701342, 0.10428036,\n",
       "       0.00145993, 0.00138623, 0.00138359, 0.00098207])"
      ]
     },
     "execution_count": 10,
     "metadata": {},
     "output_type": "execute_result"
    }
   ],
   "source": [
    "# Använd random forest feature importance\n",
    "model.feature_importances_"
   ]
  },
  {
   "cell_type": "code",
   "execution_count": 11,
   "id": "69483e32",
   "metadata": {},
   "outputs": [
    {
     "data": {
      "text/plain": [
       "Index(['Trip_Distance_km', 'Base_Fare', 'Per_Km_Rate', 'Per_Minute_Rate',\n",
       "       'Trip_Duration_Minutes', 'Trip_Price', 'Time_of_Day_Afternoon',\n",
       "       'Time_of_Day_Evening', 'Time_of_Day_Morning', 'Time_of_Day_Night'],\n",
       "      dtype='object')"
      ]
     },
     "execution_count": 11,
     "metadata": {},
     "output_type": "execute_result"
    }
   ],
   "source": [
    "df.columns"
   ]
  },
  {
   "cell_type": "code",
   "execution_count": 12,
   "id": "282fa65a",
   "metadata": {},
   "outputs": [
    {
     "data": {
      "text/html": [
       "<div>\n",
       "<style scoped>\n",
       "    .dataframe tbody tr th:only-of-type {\n",
       "        vertical-align: middle;\n",
       "    }\n",
       "\n",
       "    .dataframe tbody tr th {\n",
       "        vertical-align: top;\n",
       "    }\n",
       "\n",
       "    .dataframe thead th {\n",
       "        text-align: right;\n",
       "    }\n",
       "</style>\n",
       "<table border=\"1\" class=\"dataframe\">\n",
       "  <thead>\n",
       "    <tr style=\"text-align: right;\">\n",
       "      <th></th>\n",
       "      <th>0</th>\n",
       "      <th>1</th>\n",
       "      <th>2</th>\n",
       "      <th>3</th>\n",
       "      <th>4</th>\n",
       "      <th>5</th>\n",
       "      <th>6</th>\n",
       "      <th>7</th>\n",
       "      <th>8</th>\n",
       "    </tr>\n",
       "  </thead>\n",
       "  <tbody>\n",
       "    <tr>\n",
       "      <th>0</th>\n",
       "      <td>Trip_Distance_km</td>\n",
       "      <td>Base_Fare</td>\n",
       "      <td>Per_Km_Rate</td>\n",
       "      <td>Per_Minute_Rate</td>\n",
       "      <td>Trip_Duration_Minutes</td>\n",
       "      <td>Time_of_Day_Afternoon</td>\n",
       "      <td>Time_of_Day_Evening</td>\n",
       "      <td>Time_of_Day_Morning</td>\n",
       "      <td>Time_of_Day_Night</td>\n",
       "    </tr>\n",
       "    <tr>\n",
       "      <th>1</th>\n",
       "      <td>0.592859</td>\n",
       "      <td>0.008465</td>\n",
       "      <td>0.21217</td>\n",
       "      <td>0.077013</td>\n",
       "      <td>0.10428</td>\n",
       "      <td>0.00146</td>\n",
       "      <td>0.001386</td>\n",
       "      <td>0.001384</td>\n",
       "      <td>0.000982</td>\n",
       "    </tr>\n",
       "  </tbody>\n",
       "</table>\n",
       "</div>"
      ],
      "text/plain": [
       "                  0          1            2                3  \\\n",
       "0  Trip_Distance_km  Base_Fare  Per_Km_Rate  Per_Minute_Rate   \n",
       "1          0.592859   0.008465      0.21217         0.077013   \n",
       "\n",
       "                       4                      5                    6  \\\n",
       "0  Trip_Duration_Minutes  Time_of_Day_Afternoon  Time_of_Day_Evening   \n",
       "1                0.10428                0.00146             0.001386   \n",
       "\n",
       "                     7                  8  \n",
       "0  Time_of_Day_Morning  Time_of_Day_Night  \n",
       "1             0.001384           0.000982  "
      ]
     },
     "execution_count": 12,
     "metadata": {},
     "output_type": "execute_result"
    }
   ],
   "source": [
    "feature_importance = pd.DataFrame([X.columns, model.feature_importances_])\n",
    "feature_importance"
   ]
  },
  {
   "cell_type": "code",
   "execution_count": 13,
   "id": "4923a9b1",
   "metadata": {},
   "outputs": [
    {
     "data": {
      "text/html": [
       "<div>\n",
       "<style scoped>\n",
       "    .dataframe tbody tr th:only-of-type {\n",
       "        vertical-align: middle;\n",
       "    }\n",
       "\n",
       "    .dataframe tbody tr th {\n",
       "        vertical-align: top;\n",
       "    }\n",
       "\n",
       "    .dataframe thead th {\n",
       "        text-align: right;\n",
       "    }\n",
       "</style>\n",
       "<table border=\"1\" class=\"dataframe\">\n",
       "  <thead>\n",
       "    <tr style=\"text-align: right;\">\n",
       "      <th></th>\n",
       "      <th>Feature</th>\n",
       "      <th>Importance</th>\n",
       "    </tr>\n",
       "  </thead>\n",
       "  <tbody>\n",
       "    <tr>\n",
       "      <th>0</th>\n",
       "      <td>Trip_Distance_km</td>\n",
       "      <td>0.592859</td>\n",
       "    </tr>\n",
       "    <tr>\n",
       "      <th>1</th>\n",
       "      <td>Base_Fare</td>\n",
       "      <td>0.008465</td>\n",
       "    </tr>\n",
       "    <tr>\n",
       "      <th>2</th>\n",
       "      <td>Per_Km_Rate</td>\n",
       "      <td>0.21217</td>\n",
       "    </tr>\n",
       "    <tr>\n",
       "      <th>3</th>\n",
       "      <td>Per_Minute_Rate</td>\n",
       "      <td>0.077013</td>\n",
       "    </tr>\n",
       "    <tr>\n",
       "      <th>4</th>\n",
       "      <td>Trip_Duration_Minutes</td>\n",
       "      <td>0.10428</td>\n",
       "    </tr>\n",
       "    <tr>\n",
       "      <th>5</th>\n",
       "      <td>Time_of_Day_Afternoon</td>\n",
       "      <td>0.00146</td>\n",
       "    </tr>\n",
       "    <tr>\n",
       "      <th>6</th>\n",
       "      <td>Time_of_Day_Evening</td>\n",
       "      <td>0.001386</td>\n",
       "    </tr>\n",
       "    <tr>\n",
       "      <th>7</th>\n",
       "      <td>Time_of_Day_Morning</td>\n",
       "      <td>0.001384</td>\n",
       "    </tr>\n",
       "    <tr>\n",
       "      <th>8</th>\n",
       "      <td>Time_of_Day_Night</td>\n",
       "      <td>0.000982</td>\n",
       "    </tr>\n",
       "  </tbody>\n",
       "</table>\n",
       "</div>"
      ],
      "text/plain": [
       "                 Feature Importance\n",
       "0       Trip_Distance_km   0.592859\n",
       "1              Base_Fare   0.008465\n",
       "2            Per_Km_Rate    0.21217\n",
       "3        Per_Minute_Rate   0.077013\n",
       "4  Trip_Duration_Minutes    0.10428\n",
       "5  Time_of_Day_Afternoon    0.00146\n",
       "6    Time_of_Day_Evening   0.001386\n",
       "7    Time_of_Day_Morning   0.001384\n",
       "8      Time_of_Day_Night   0.000982"
      ]
     },
     "execution_count": 13,
     "metadata": {},
     "output_type": "execute_result"
    }
   ],
   "source": [
    "# Transponera, rader bli kolumner o vise versa\n",
    "feature_importance = feature_importance.T\n",
    "feature_importance.columns = [\"Feature\", \"Importance\"]\n",
    "feature_importance"
   ]
  },
  {
   "cell_type": "markdown",
   "id": "e9b892b7",
   "metadata": {},
   "source": [
    "## Trip_distance är det som har ÖVERLÄGSET störst påverkan"
   ]
  },
  {
   "cell_type": "markdown",
   "id": "b5301458",
   "metadata": {},
   "source": [
    "## TRÄNA NU PÅ ALL TESTDATA"
   ]
  },
  {
   "cell_type": "code",
   "execution_count": 14,
   "id": "c6ae2c96",
   "metadata": {},
   "outputs": [
    {
     "data": {
      "text/plain": [
       "['random_forest_model_no_outliers.joblib']"
      ]
     },
     "execution_count": 14,
     "metadata": {},
     "output_type": "execute_result"
    }
   ],
   "source": [
    "# Kombinera X_train och X_test till en komplett dataset\n",
    "X_full = df_dummies.drop(\"Trip_Price\", axis=\"columns\")\n",
    "y_full = df_dummies[\"Trip_Price\"]\n",
    "\n",
    "# instans\n",
    "final_model = RandomForestRegressor()\n",
    "\n",
    "# Träna på all data\n",
    "final_model.fit(X_full, y_full)\n",
    "\n",
    "# Exportera\n",
    "joblib.dump(final_model, 'random_forest_model_no_outliers.joblib')"
   ]
  },
  {
   "cell_type": "code",
   "execution_count": null,
   "id": "8ca6484b",
   "metadata": {},
   "outputs": [],
   "source": []
  }
 ],
 "metadata": {
  "kernelspec": {
   "display_name": "venv (3.12.0)",
   "language": "python",
   "name": "python3"
  },
  "language_info": {
   "codemirror_mode": {
    "name": "ipython",
    "version": 3
   },
   "file_extension": ".py",
   "mimetype": "text/x-python",
   "name": "python",
   "nbconvert_exporter": "python",
   "pygments_lexer": "ipython3",
   "version": "3.12.0"
  }
 },
 "nbformat": 4,
 "nbformat_minor": 5
}
